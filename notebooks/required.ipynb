{
 "cells": [
  {
   "cell_type": "code",
   "execution_count": 3,
   "metadata": {},
   "outputs": [
    {
     "name": "stdout",
     "output_type": "stream",
     "text": [
      "['ADANIGREEN.NS', 'AARTIIND.NS', 'BBTC.NS', 'BHARATFORG.NS', 'DHANI.NS', 'HAL.NS', 'HDFCBANK.NS', 'IDFCFIRSTB.NS', 'IGL.NS', 'IOC.NS', 'M&MFIN.NS', 'MOTHERSUMI.NS', 'SHREECEM.NS', 'TATACHEM.NS', 'TATACONSUM.NS', 'TATAMOTORS.NS', 'TVSMOTOR.NS', 'WHIRLPOOL.NS', 'ADANIPORTS.NS', 'AMBUJACEM.NS', 'DABUR.NS', 'GODREJCP.NS', 'JSWENERGY.NS', 'PGHH.NS', 'RECLTD.NS', 'TATAPOWER.NS', 'ULTRACEMCO.NS', 'YESBANK.NS', 'BHARTIARTL.NS', 'HEROMOTOCO.NS', 'HINDUNILVR.NS', 'ICICIGI.NS', 'NAUKRI.NS', 'PEL.NS', 'SIEMENS.NS', 'ABFRL.NS', 'ACC.NS', 'ASHOKLEY.NS', 'BANKBARODA.NS', 'GRASIM.NS', 'GSPL.NS', 'GUJGASLTD.NS', 'HAVELLS.NS', 'IBULHSGFIN.NS', 'LALPATHLAB.NS', 'PAGEIND.NS', 'TATASTEEL.NS', 'UPL.NS', 'ABCAPITAL.NS', 'AMARAJABAT.NS', 'AUROPHARMA.NS', 'AXISBANK.NS', 'BATAINDIA.NS', 'CANBK.NS', 'COROMANDEL.NS', 'CUMMINSIND.NS', 'ENDURANCE.NS', 'HDFC.NS', 'LT.NS', 'MARICO.NS', 'MPHASIS.NS', 'PFIZER.NS', 'POWERGRID.NS', 'SBIN.NS', 'SRTRANSFIN.NS', 'SUNTV.NS', 'WIPRO.NS', 'APLLTD.NS', 'APOLLOHOSP.NS', 'BHEL.NS', 'DIXON.NS', 'GLENMARK.NS', 'INDUSINDBK.NS', 'INFY.NS', 'JINDALSTEL.NS', 'L&TFH.NS', 'MRF.NS', 'OBEROIRLTY.NS', 'ONGC.NS', 'PIIND.NS', 'SANOFI.NS', 'ALKEM.NS', 'BANDHANBNK.NS', 'EMAMILTD.NS', 'ESCORTS.NS', 'FORTIS.NS', 'GMRINFRA.NS', 'HINDZINC.NS', 'INDHOTEL.NS', 'NMDC.NS', 'BAJAJFINSV.NS', 'BANKINDIA.NS', 'CHOLAFIN.NS', 'CIPLA.NS', 'EXIDEIND.NS', 'ISEC.NS', 'KOTAKBANK.NS', 'LTI.NS', 'MANAPPURAM.NS', 'MARUTI.NS', 'NATCOPHARM.NS', 'PNB.NS', 'TCS.NS', 'TITAN.NS', 'ZEEL.NS', 'ADANIENT.NS', 'AUBANK.NS', 'BPCL.NS', 'BRITANNIA.NS', 'CASTROLIND.NS', 'COLPAL.NS', 'DALBHARAT.NS', 'EICHERMOT.NS', 'HDFCAMC.NS', 'HINDPETRO.NS', 'ICICIPRULI.NS', 'MINDTREE.NS', 'POLYCAB.NS', 'SAIL.NS', 'VGUARD.NS', 'ATGL.NS', 'DEEPAKNTR.NS', 'DLF.NS', 'ICICIBANK.NS', 'LAURUSLABS.NS', 'LTTS.NS', 'NAVINFLUOR.NS', 'RELIANCE.NS', 'ASIANPAINT.NS', 'BAJAJ-AUTO.NS', 'CADILAHC.NS', 'CONCOR.NS', 'GODREJPROP.NS', 'IDEA.NS', 'JUBLFOOD.NS', 'NESTLEIND.NS', 'PFC.NS', 'PRESTIGE.NS', 'APOLLOTYRE.NS', 'BAJFINANCE.NS', 'BEL.NS', 'BOSCHLTD.NS', 'INDIGO.NS', 'SBICARD.NS', 'TRENT.NS', 'UBL.NS', 'UNIONBANK.NS', 'ABBOTINDIA.NS', 'AJANTPHARM.NS', 'BAJAJHLDNG.NS', 'CESC.NS', 'COALINDIA.NS', 'CROMPTON.NS', 'FEDERALBNK.NS', 'GODREJAGRO.NS', 'GODREJIND.NS', 'HCLTECH.NS', 'HDFCLIFE.NS', 'HINDALCO.NS', 'IPCALAB.NS', 'PIDILITIND.NS', 'RBLBANK.NS', 'ADANITRANS.NS', 'DRREDDY.NS', 'GAIL.NS', 'INDIAMART.NS', 'IRCTC.NS', 'LICHSGFIN.NS', 'MCDOWELL-N.NS', 'OIL.NS', 'RAMCOCEM.NS', 'SYNGENE.NS', 'VOLTAS.NS', 'BERGEPAINT.NS', 'COFORGE.NS', 'DIVISLAB.NS', 'DMART.NS', 'MFSL.NS', 'NAM-INDIA.NS', 'NTPC.NS', 'SRF.NS', 'TATAELXSI.NS', 'TECHM.NS', 'TORNTPHARM.NS', 'TORNTPOWER.NS', 'VEDL.NS', 'BALKRISIND.NS', 'BIOCON.NS', 'CUB.NS', 'INDUSTOWER.NS', 'ITC.NS', 'JSWSTEEL.NS', 'LUPIN.NS', 'M&M.NS', 'MGL.NS', 'MUTHOOTFIN.NS', 'PETRONET.NS', 'SBILIFE.NS', 'SUNPHARMA.NS', 'VBL.NS']\n"
     ]
    }
   ],
   "source": [
    "from niftystocks import ns\n",
    "\n",
    "# Get a list of Nifty 200 symbols without the \".NS\" suffix\n",
    "nifty_200 = ns.get_nifty200_with_ns()\n",
    "\n",
    "# Print the symbols (optional)\n",
    "print(nifty_200)\n"
   ]
  },
  {
   "cell_type": "code",
   "execution_count": null,
   "metadata": {},
   "outputs": [],
   "source": []
  },
  {
   "cell_type": "code",
   "execution_count": null,
   "metadata": {},
   "outputs": [],
   "source": []
  }
 ],
 "metadata": {
  "kernelspec": {
   "display_name": "venv",
   "language": "python",
   "name": "python3"
  },
  "language_info": {
   "codemirror_mode": {
    "name": "ipython",
    "version": 3
   },
   "file_extension": ".py",
   "mimetype": "text/x-python",
   "name": "python",
   "nbconvert_exporter": "python",
   "pygments_lexer": "ipython3",
   "version": "3.11.6"
  }
 },
 "nbformat": 4,
 "nbformat_minor": 2
}
