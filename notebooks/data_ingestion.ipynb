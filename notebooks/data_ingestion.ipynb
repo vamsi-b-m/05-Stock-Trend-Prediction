{
 "cells": [
  {
   "cell_type": "code",
   "execution_count": 25,
   "metadata": {},
   "outputs": [],
   "source": [
    "import yfinance\n",
    "import pandas as pd\n",
    "\n",
    "try:\n",
    "    stock_symbol = \"TATAMOTORS.NS\"\n",
    "    stock = yfinance.Ticker(stock_symbol)\n",
    "    dataset = stock.history(period='1y', interval='1h')\n",
    "    df = pd.DataFrame(dataset)\n",
    "    df.to_csv(\"TATAMOTORS.csv\")\n",
    "except OSError as e:\n",
    "    print(\"Exception : {}\", e)\n",
    "\n"
   ]
  },
  {
   "cell_type": "code",
   "execution_count": 37,
   "metadata": {},
   "outputs": [],
   "source": [
    "stock_symbols = ['RELIANCE.NS', 'TCS.NS', 'HDFC.NS', 'INFY.NS', 'SBIN.NS']\n",
    "for stock_symbol in stock_symbols:\n",
    "    filename = stock_symbol[:-3]+\".csv\"\n",
    "    stock = yfinance.Ticker(stock_symbol)\n",
    "    dataset = stock.history(period='2y', interval='1h')\n",
    "    df = pd.DataFrame(dataset)\n",
    "    df.to_csv(filename)\n",
    "    df = pd.read_csv(filename)\n",
    "    df = df[['Datetime', 'Open', 'Close']]\n",
    "    df.to_csv(filename, index=False)"
   ]
  },
  {
   "cell_type": "code",
   "execution_count": 38,
   "metadata": {},
   "outputs": [],
   "source": [
    "try:\n",
    "    stock_symbols = ['RELIANCE.NS', 'TCS.NS', 'HDFC.NS', 'INFY.NS', 'SBIN.NS']\n",
    "    for stock_symbol in stock_symbols:\n",
    "        filename = stock_symbol[:-3]+\".csv\"\n",
    "        stock = yfinance.Ticker(stock_symbol)\n",
    "        dataset = stock.history(period='2y', interval='1h')\n",
    "        df = pd.DataFrame(dataset)\n",
    "        df.to_csv(filename)\n",
    "        df = pd.read_csv(filename)\n",
    "        df = df[['Datetime', 'Open', 'Close']]\n",
    "        df.to_csv(filename, index=False)\n",
    "except OSError as e:\n",
    "    print(f\"Exception : {e}\")\n",
    "except Exception as e:\n",
    "    print(f\"Exception : {e}\")"
   ]
  },
  {
   "cell_type": "code",
   "execution_count": 39,
   "metadata": {},
   "outputs": [],
   "source": [
    "data_ingestion_artifact_dir = \"\"\n",
    "try:\n",
    "    stock_symbols = ['RELIANCE.NS', 'TCS.NS', 'HDFC.NS', 'INFY.NS', 'SBIN.NS']\n",
    "    for stock_symbol in stock_symbols:\n",
    "        filename = stock_symbol[:-3]+\".csv\"\n",
    "        stock = yfinance.Ticker(stock_symbol)\n",
    "        dataset = stock.history(period='2y', interval='1h')\n",
    "        df = pd.DataFrame(dataset)\n",
    "        dataset_filepath = data_ingestion_artifact_dir + filename\n",
    "        df.to_csv(dataset_filepath)\n",
    "        df = pd.read_csv(dataset_filepath)\n",
    "        df = df[['Datetime', 'Open', 'Close']]\n",
    "        df.to_csv(dataset_filepath, index=False)\n",
    "except OSError as e:\n",
    "    print(f\"Exception : {e}\")\n",
    "except Exception as e:\n",
    "    print(f\"Exception : {e}\")"
   ]
  },
  {
   "cell_type": "code",
   "execution_count": 42,
   "metadata": {},
   "outputs": [],
   "source": []
  },
  {
   "cell_type": "code",
   "execution_count": 43,
   "metadata": {},
   "outputs": [],
   "source": []
  },
  {
   "cell_type": "code",
   "execution_count": 44,
   "metadata": {},
   "outputs": [],
   "source": [
    "import os\n",
    "\n",
    "os.chdir('/Users/vambat1/Documents/Projects/Machine-Learning/05-Stock-Trend-Prediction/')\n",
    "\n",
    "data_dir = \"data\"\n",
    "data_ingestion_artifact_dir_name = \"data_ingestion\"\n",
    "data_ingestion_artifact_dir_path = os.path.join(data_dir, data_ingestion_artifact_dir_name)\n",
    "os.makedirs(data_ingestion_artifact_dir_path, exist_ok=True)\n",
    "\n",
    "\n",
    "stock_symbol = 'RELIANCE.NS'\n",
    "dataset_filename = stock_symbol[:-3]+\".csv\"\n",
    "dataset_filepath = os.path.join(data_ingestion_artifact_dir_path, dataset_filename)\n",
    "\n",
    "try:\n",
    "    stock = yfinance.Ticker(stock_symbol)\n",
    "    dataset = stock.history(period='2y', interval='1h')\n",
    "    df = pd.DataFrame(dataset)\n",
    "    df.to_csv(dataset_filepath)\n",
    "    df = pd.read_csv(dataset_filepath)\n",
    "    # df = df[['Datetime', 'Open', 'Close']]\n",
    "    # df.to_csv(dataset_filepath, index=False)\n",
    "except OSError as e:\n",
    "    print(f\"Exception : {e}\")\n",
    "except Exception as e:\n",
    "    print(f\"Exception : {e}\")"
   ]
  },
  {
   "cell_type": "code",
   "execution_count": null,
   "metadata": {},
   "outputs": [],
   "source": []
  }
 ],
 "metadata": {
  "kernelspec": {
   "display_name": "venv",
   "language": "python",
   "name": "python3"
  },
  "language_info": {
   "codemirror_mode": {
    "name": "ipython",
    "version": 3
   },
   "file_extension": ".py",
   "mimetype": "text/x-python",
   "name": "python",
   "nbconvert_exporter": "python",
   "pygments_lexer": "ipython3",
   "version": "3.11.6"
  }
 },
 "nbformat": 4,
 "nbformat_minor": 2
}
