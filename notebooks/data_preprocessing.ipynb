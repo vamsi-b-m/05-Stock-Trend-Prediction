{
 "cells": [
  {
   "cell_type": "code",
   "execution_count": 112,
   "metadata": {},
   "outputs": [],
   "source": [
    "import pandas as pd"
   ]
  },
  {
   "cell_type": "code",
   "execution_count": 113,
   "metadata": {},
   "outputs": [],
   "source": [
    "dataset = pd.read_csv(\"/Users/vambat1/Documents/Projects/Machine-Learning/05-Stock-Trend-Prediction/data/data_ingestion/SENCO.csv\")"
   ]
  },
  {
   "cell_type": "code",
   "execution_count": 114,
   "metadata": {},
   "outputs": [
    {
     "data": {
      "text/html": [
       "<div>\n",
       "<style scoped>\n",
       "    .dataframe tbody tr th:only-of-type {\n",
       "        vertical-align: middle;\n",
       "    }\n",
       "\n",
       "    .dataframe tbody tr th {\n",
       "        vertical-align: top;\n",
       "    }\n",
       "\n",
       "    .dataframe thead th {\n",
       "        text-align: right;\n",
       "    }\n",
       "</style>\n",
       "<table border=\"1\" class=\"dataframe\">\n",
       "  <thead>\n",
       "    <tr style=\"text-align: right;\">\n",
       "      <th></th>\n",
       "      <th>Date</th>\n",
       "      <th>Open</th>\n",
       "      <th>High</th>\n",
       "      <th>Low</th>\n",
       "      <th>Close</th>\n",
       "      <th>Volume</th>\n",
       "      <th>Dividends</th>\n",
       "      <th>Stock Splits</th>\n",
       "    </tr>\n",
       "  </thead>\n",
       "  <tbody>\n",
       "    <tr>\n",
       "      <th>0</th>\n",
       "      <td>2023-07-14 00:00:00+05:30</td>\n",
       "      <td>429.386286</td>\n",
       "      <td>443.366305</td>\n",
       "      <td>400.627403</td>\n",
       "      <td>404.721527</td>\n",
       "      <td>15116071</td>\n",
       "      <td>0.0</td>\n",
       "      <td>0.0</td>\n",
       "    </tr>\n",
       "    <tr>\n",
       "      <th>1</th>\n",
       "      <td>2023-07-17 00:00:00+05:30</td>\n",
       "      <td>405.420536</td>\n",
       "      <td>411.911259</td>\n",
       "      <td>384.450508</td>\n",
       "      <td>399.978302</td>\n",
       "      <td>2950938</td>\n",
       "      <td>0.0</td>\n",
       "      <td>0.0</td>\n",
       "    </tr>\n",
       "    <tr>\n",
       "      <th>2</th>\n",
       "      <td>2023-07-18 00:00:00+05:30</td>\n",
       "      <td>397.431973</td>\n",
       "      <td>406.069622</td>\n",
       "      <td>386.447672</td>\n",
       "      <td>389.742950</td>\n",
       "      <td>1009490</td>\n",
       "      <td>0.0</td>\n",
       "      <td>0.0</td>\n",
       "    </tr>\n",
       "    <tr>\n",
       "      <th>3</th>\n",
       "      <td>2023-07-19 00:00:00+05:30</td>\n",
       "      <td>391.440521</td>\n",
       "      <td>394.336375</td>\n",
       "      <td>383.801445</td>\n",
       "      <td>384.650238</td>\n",
       "      <td>562170</td>\n",
       "      <td>0.0</td>\n",
       "      <td>0.0</td>\n",
       "    </tr>\n",
       "    <tr>\n",
       "      <th>4</th>\n",
       "      <td>2023-07-20 00:00:00+05:30</td>\n",
       "      <td>382.453383</td>\n",
       "      <td>384.450529</td>\n",
       "      <td>360.934151</td>\n",
       "      <td>363.630280</td>\n",
       "      <td>1070866</td>\n",
       "      <td>0.0</td>\n",
       "      <td>0.0</td>\n",
       "    </tr>\n",
       "  </tbody>\n",
       "</table>\n",
       "</div>"
      ],
      "text/plain": [
       "                        Date        Open        High         Low       Close  \\\n",
       "0  2023-07-14 00:00:00+05:30  429.386286  443.366305  400.627403  404.721527   \n",
       "1  2023-07-17 00:00:00+05:30  405.420536  411.911259  384.450508  399.978302   \n",
       "2  2023-07-18 00:00:00+05:30  397.431973  406.069622  386.447672  389.742950   \n",
       "3  2023-07-19 00:00:00+05:30  391.440521  394.336375  383.801445  384.650238   \n",
       "4  2023-07-20 00:00:00+05:30  382.453383  384.450529  360.934151  363.630280   \n",
       "\n",
       "     Volume  Dividends  Stock Splits  \n",
       "0  15116071        0.0           0.0  \n",
       "1   2950938        0.0           0.0  \n",
       "2   1009490        0.0           0.0  \n",
       "3    562170        0.0           0.0  \n",
       "4   1070866        0.0           0.0  "
      ]
     },
     "execution_count": 114,
     "metadata": {},
     "output_type": "execute_result"
    }
   ],
   "source": [
    "dataset.head()"
   ]
  },
  {
   "cell_type": "code",
   "execution_count": 115,
   "metadata": {},
   "outputs": [],
   "source": [
    "dataset['Date'] = pd.to_datetime(dataset['Date']).dt.strftime('%Y-%m-%d')"
   ]
  },
  {
   "cell_type": "code",
   "execution_count": 116,
   "metadata": {},
   "outputs": [
    {
     "data": {
      "text/html": [
       "<div>\n",
       "<style scoped>\n",
       "    .dataframe tbody tr th:only-of-type {\n",
       "        vertical-align: middle;\n",
       "    }\n",
       "\n",
       "    .dataframe tbody tr th {\n",
       "        vertical-align: top;\n",
       "    }\n",
       "\n",
       "    .dataframe thead th {\n",
       "        text-align: right;\n",
       "    }\n",
       "</style>\n",
       "<table border=\"1\" class=\"dataframe\">\n",
       "  <thead>\n",
       "    <tr style=\"text-align: right;\">\n",
       "      <th></th>\n",
       "      <th>Date</th>\n",
       "      <th>Open</th>\n",
       "      <th>High</th>\n",
       "      <th>Low</th>\n",
       "      <th>Close</th>\n",
       "      <th>Volume</th>\n",
       "      <th>Dividends</th>\n",
       "      <th>Stock Splits</th>\n",
       "    </tr>\n",
       "  </thead>\n",
       "  <tbody>\n",
       "    <tr>\n",
       "      <th>0</th>\n",
       "      <td>2023-07-14</td>\n",
       "      <td>429.386286</td>\n",
       "      <td>443.366305</td>\n",
       "      <td>400.627403</td>\n",
       "      <td>404.721527</td>\n",
       "      <td>15116071</td>\n",
       "      <td>0.0</td>\n",
       "      <td>0.0</td>\n",
       "    </tr>\n",
       "    <tr>\n",
       "      <th>1</th>\n",
       "      <td>2023-07-17</td>\n",
       "      <td>405.420536</td>\n",
       "      <td>411.911259</td>\n",
       "      <td>384.450508</td>\n",
       "      <td>399.978302</td>\n",
       "      <td>2950938</td>\n",
       "      <td>0.0</td>\n",
       "      <td>0.0</td>\n",
       "    </tr>\n",
       "    <tr>\n",
       "      <th>2</th>\n",
       "      <td>2023-07-18</td>\n",
       "      <td>397.431973</td>\n",
       "      <td>406.069622</td>\n",
       "      <td>386.447672</td>\n",
       "      <td>389.742950</td>\n",
       "      <td>1009490</td>\n",
       "      <td>0.0</td>\n",
       "      <td>0.0</td>\n",
       "    </tr>\n",
       "    <tr>\n",
       "      <th>3</th>\n",
       "      <td>2023-07-19</td>\n",
       "      <td>391.440521</td>\n",
       "      <td>394.336375</td>\n",
       "      <td>383.801445</td>\n",
       "      <td>384.650238</td>\n",
       "      <td>562170</td>\n",
       "      <td>0.0</td>\n",
       "      <td>0.0</td>\n",
       "    </tr>\n",
       "    <tr>\n",
       "      <th>4</th>\n",
       "      <td>2023-07-20</td>\n",
       "      <td>382.453383</td>\n",
       "      <td>384.450529</td>\n",
       "      <td>360.934151</td>\n",
       "      <td>363.630280</td>\n",
       "      <td>1070866</td>\n",
       "      <td>0.0</td>\n",
       "      <td>0.0</td>\n",
       "    </tr>\n",
       "  </tbody>\n",
       "</table>\n",
       "</div>"
      ],
      "text/plain": [
       "         Date        Open        High         Low       Close    Volume  \\\n",
       "0  2023-07-14  429.386286  443.366305  400.627403  404.721527  15116071   \n",
       "1  2023-07-17  405.420536  411.911259  384.450508  399.978302   2950938   \n",
       "2  2023-07-18  397.431973  406.069622  386.447672  389.742950   1009490   \n",
       "3  2023-07-19  391.440521  394.336375  383.801445  384.650238    562170   \n",
       "4  2023-07-20  382.453383  384.450529  360.934151  363.630280   1070866   \n",
       "\n",
       "   Dividends  Stock Splits  \n",
       "0        0.0           0.0  \n",
       "1        0.0           0.0  \n",
       "2        0.0           0.0  \n",
       "3        0.0           0.0  \n",
       "4        0.0           0.0  "
      ]
     },
     "execution_count": 116,
     "metadata": {},
     "output_type": "execute_result"
    }
   ],
   "source": [
    "dataset.head()"
   ]
  },
  {
   "cell_type": "code",
   "execution_count": 117,
   "metadata": {},
   "outputs": [
    {
     "data": {
      "text/plain": [
       "Date            0\n",
       "Open            0\n",
       "High            0\n",
       "Low             0\n",
       "Close           0\n",
       "Volume          0\n",
       "Dividends       0\n",
       "Stock Splits    0\n",
       "dtype: int64"
      ]
     },
     "execution_count": 117,
     "metadata": {},
     "output_type": "execute_result"
    }
   ],
   "source": [
    "dataset.isna().sum()"
   ]
  },
  {
   "cell_type": "code",
   "execution_count": 118,
   "metadata": {},
   "outputs": [
    {
     "data": {
      "text/plain": [
       "False"
      ]
     },
     "execution_count": 118,
     "metadata": {},
     "output_type": "execute_result"
    }
   ],
   "source": [
    "dataset.isna().sum().any()"
   ]
  },
  {
   "cell_type": "code",
   "execution_count": 119,
   "metadata": {},
   "outputs": [
    {
     "data": {
      "text/html": [
       "<div>\n",
       "<style scoped>\n",
       "    .dataframe tbody tr th:only-of-type {\n",
       "        vertical-align: middle;\n",
       "    }\n",
       "\n",
       "    .dataframe tbody tr th {\n",
       "        vertical-align: top;\n",
       "    }\n",
       "\n",
       "    .dataframe thead th {\n",
       "        text-align: right;\n",
       "    }\n",
       "</style>\n",
       "<table border=\"1\" class=\"dataframe\">\n",
       "  <thead>\n",
       "    <tr style=\"text-align: right;\">\n",
       "      <th></th>\n",
       "      <th>Date</th>\n",
       "      <th>Open</th>\n",
       "      <th>High</th>\n",
       "      <th>Low</th>\n",
       "      <th>Close</th>\n",
       "      <th>Volume</th>\n",
       "      <th>Dividends</th>\n",
       "      <th>Stock Splits</th>\n",
       "    </tr>\n",
       "  </thead>\n",
       "  <tbody>\n",
       "    <tr>\n",
       "      <th>0</th>\n",
       "      <td>2023-07-14</td>\n",
       "      <td>429.386286</td>\n",
       "      <td>443.366305</td>\n",
       "      <td>400.627403</td>\n",
       "      <td>404.721527</td>\n",
       "      <td>15116071</td>\n",
       "      <td>0.0</td>\n",
       "      <td>0.0</td>\n",
       "    </tr>\n",
       "    <tr>\n",
       "      <th>1</th>\n",
       "      <td>2023-07-17</td>\n",
       "      <td>405.420536</td>\n",
       "      <td>411.911259</td>\n",
       "      <td>384.450508</td>\n",
       "      <td>399.978302</td>\n",
       "      <td>2950938</td>\n",
       "      <td>0.0</td>\n",
       "      <td>0.0</td>\n",
       "    </tr>\n",
       "    <tr>\n",
       "      <th>2</th>\n",
       "      <td>2023-07-18</td>\n",
       "      <td>397.431973</td>\n",
       "      <td>406.069622</td>\n",
       "      <td>386.447672</td>\n",
       "      <td>389.742950</td>\n",
       "      <td>1009490</td>\n",
       "      <td>0.0</td>\n",
       "      <td>0.0</td>\n",
       "    </tr>\n",
       "    <tr>\n",
       "      <th>3</th>\n",
       "      <td>2023-07-19</td>\n",
       "      <td>391.440521</td>\n",
       "      <td>394.336375</td>\n",
       "      <td>383.801445</td>\n",
       "      <td>384.650238</td>\n",
       "      <td>562170</td>\n",
       "      <td>0.0</td>\n",
       "      <td>0.0</td>\n",
       "    </tr>\n",
       "    <tr>\n",
       "      <th>4</th>\n",
       "      <td>2023-07-20</td>\n",
       "      <td>382.453383</td>\n",
       "      <td>384.450529</td>\n",
       "      <td>360.934151</td>\n",
       "      <td>363.630280</td>\n",
       "      <td>1070866</td>\n",
       "      <td>0.0</td>\n",
       "      <td>0.0</td>\n",
       "    </tr>\n",
       "  </tbody>\n",
       "</table>\n",
       "</div>"
      ],
      "text/plain": [
       "         Date        Open        High         Low       Close    Volume  \\\n",
       "0  2023-07-14  429.386286  443.366305  400.627403  404.721527  15116071   \n",
       "1  2023-07-17  405.420536  411.911259  384.450508  399.978302   2950938   \n",
       "2  2023-07-18  397.431973  406.069622  386.447672  389.742950   1009490   \n",
       "3  2023-07-19  391.440521  394.336375  383.801445  384.650238    562170   \n",
       "4  2023-07-20  382.453383  384.450529  360.934151  363.630280   1070866   \n",
       "\n",
       "   Dividends  Stock Splits  \n",
       "0        0.0           0.0  \n",
       "1        0.0           0.0  \n",
       "2        0.0           0.0  \n",
       "3        0.0           0.0  \n",
       "4        0.0           0.0  "
      ]
     },
     "execution_count": 119,
     "metadata": {},
     "output_type": "execute_result"
    }
   ],
   "source": [
    "dataset.head()"
   ]
  },
  {
   "cell_type": "code",
   "execution_count": 120,
   "metadata": {},
   "outputs": [
    {
     "data": {
      "text/plain": [
       "Index(['Date', 'Open', 'High', 'Low', 'Close', 'Volume', 'Dividends',\n",
       "       'Stock Splits'],\n",
       "      dtype='object')"
      ]
     },
     "execution_count": 120,
     "metadata": {},
     "output_type": "execute_result"
    }
   ],
   "source": [
    "dataset.columns"
   ]
  },
  {
   "cell_type": "code",
   "execution_count": 121,
   "metadata": {},
   "outputs": [
    {
     "data": {
      "text/html": [
       "<div>\n",
       "<style scoped>\n",
       "    .dataframe tbody tr th:only-of-type {\n",
       "        vertical-align: middle;\n",
       "    }\n",
       "\n",
       "    .dataframe tbody tr th {\n",
       "        vertical-align: top;\n",
       "    }\n",
       "\n",
       "    .dataframe thead th {\n",
       "        text-align: right;\n",
       "    }\n",
       "</style>\n",
       "<table border=\"1\" class=\"dataframe\">\n",
       "  <thead>\n",
       "    <tr style=\"text-align: right;\">\n",
       "      <th></th>\n",
       "      <th>Open</th>\n",
       "      <th>High</th>\n",
       "      <th>Low</th>\n",
       "      <th>Close</th>\n",
       "      <th>Volume</th>\n",
       "      <th>Dividends</th>\n",
       "      <th>Stock Splits</th>\n",
       "    </tr>\n",
       "  </thead>\n",
       "  <tbody>\n",
       "    <tr>\n",
       "      <th>count</th>\n",
       "      <td>152.000000</td>\n",
       "      <td>152.000000</td>\n",
       "      <td>152.000000</td>\n",
       "      <td>152.000000</td>\n",
       "      <td>1.520000e+02</td>\n",
       "      <td>152.000000</td>\n",
       "      <td>152.0</td>\n",
       "    </tr>\n",
       "    <tr>\n",
       "      <th>mean</th>\n",
       "      <td>618.483831</td>\n",
       "      <td>633.528551</td>\n",
       "      <td>604.902870</td>\n",
       "      <td>617.040266</td>\n",
       "      <td>7.316779e+05</td>\n",
       "      <td>0.006579</td>\n",
       "      <td>0.0</td>\n",
       "    </tr>\n",
       "    <tr>\n",
       "      <th>std</th>\n",
       "      <td>156.354679</td>\n",
       "      <td>159.130763</td>\n",
       "      <td>152.349768</td>\n",
       "      <td>154.568311</td>\n",
       "      <td>1.459058e+06</td>\n",
       "      <td>0.081111</td>\n",
       "      <td>0.0</td>\n",
       "    </tr>\n",
       "    <tr>\n",
       "      <th>min</th>\n",
       "      <td>361.433420</td>\n",
       "      <td>378.758641</td>\n",
       "      <td>357.938416</td>\n",
       "      <td>363.630280</td>\n",
       "      <td>0.000000e+00</td>\n",
       "      <td>0.000000</td>\n",
       "      <td>0.0</td>\n",
       "    </tr>\n",
       "    <tr>\n",
       "      <th>25%</th>\n",
       "      <td>416.954047</td>\n",
       "      <td>422.845633</td>\n",
       "      <td>408.403779</td>\n",
       "      <td>413.271843</td>\n",
       "      <td>2.548720e+05</td>\n",
       "      <td>0.000000</td>\n",
       "      <td>0.0</td>\n",
       "    </tr>\n",
       "    <tr>\n",
       "      <th>50%</th>\n",
       "      <td>683.922484</td>\n",
       "      <td>699.425299</td>\n",
       "      <td>667.995269</td>\n",
       "      <td>682.324768</td>\n",
       "      <td>3.837945e+05</td>\n",
       "      <td>0.000000</td>\n",
       "      <td>0.0</td>\n",
       "    </tr>\n",
       "    <tr>\n",
       "      <th>75%</th>\n",
       "      <td>747.712494</td>\n",
       "      <td>765.599991</td>\n",
       "      <td>727.600021</td>\n",
       "      <td>745.145996</td>\n",
       "      <td>6.778570e+05</td>\n",
       "      <td>0.000000</td>\n",
       "      <td>0.0</td>\n",
       "    </tr>\n",
       "    <tr>\n",
       "      <th>max</th>\n",
       "      <td>839.950012</td>\n",
       "      <td>850.000000</td>\n",
       "      <td>803.549988</td>\n",
       "      <td>831.900024</td>\n",
       "      <td>1.511607e+07</td>\n",
       "      <td>1.000000</td>\n",
       "      <td>0.0</td>\n",
       "    </tr>\n",
       "  </tbody>\n",
       "</table>\n",
       "</div>"
      ],
      "text/plain": [
       "             Open        High         Low       Close        Volume  \\\n",
       "count  152.000000  152.000000  152.000000  152.000000  1.520000e+02   \n",
       "mean   618.483831  633.528551  604.902870  617.040266  7.316779e+05   \n",
       "std    156.354679  159.130763  152.349768  154.568311  1.459058e+06   \n",
       "min    361.433420  378.758641  357.938416  363.630280  0.000000e+00   \n",
       "25%    416.954047  422.845633  408.403779  413.271843  2.548720e+05   \n",
       "50%    683.922484  699.425299  667.995269  682.324768  3.837945e+05   \n",
       "75%    747.712494  765.599991  727.600021  745.145996  6.778570e+05   \n",
       "max    839.950012  850.000000  803.549988  831.900024  1.511607e+07   \n",
       "\n",
       "        Dividends  Stock Splits  \n",
       "count  152.000000         152.0  \n",
       "mean     0.006579           0.0  \n",
       "std      0.081111           0.0  \n",
       "min      0.000000           0.0  \n",
       "25%      0.000000           0.0  \n",
       "50%      0.000000           0.0  \n",
       "75%      0.000000           0.0  \n",
       "max      1.000000           0.0  "
      ]
     },
     "execution_count": 121,
     "metadata": {},
     "output_type": "execute_result"
    }
   ],
   "source": [
    "dataset.describe()"
   ]
  },
  {
   "cell_type": "code",
   "execution_count": 122,
   "metadata": {},
   "outputs": [
    {
     "data": {
      "text/plain": [
       "Date             object\n",
       "Open            float64\n",
       "High            float64\n",
       "Low             float64\n",
       "Close           float64\n",
       "Volume            int64\n",
       "Dividends       float64\n",
       "Stock Splits    float64\n",
       "dtype: object"
      ]
     },
     "execution_count": 122,
     "metadata": {},
     "output_type": "execute_result"
    }
   ],
   "source": [
    "dataset.dtypes"
   ]
  },
  {
   "cell_type": "code",
   "execution_count": 123,
   "metadata": {},
   "outputs": [
    {
     "data": {
      "text/plain": [
       "False"
      ]
     },
     "execution_count": 123,
     "metadata": {},
     "output_type": "execute_result"
    }
   ],
   "source": [
    "dataset.duplicated().any()"
   ]
  },
  {
   "cell_type": "code",
   "execution_count": 4,
   "metadata": {},
   "outputs": [],
   "source": [
    "import os\n",
    "import pandas as pd\n",
    "\n",
    "os.chdir('/Users/vambat1/Documents/Projects/Machine-Learning/05-Stock-Trend-Prediction/')\n",
    "\n",
    "data_dir = \"data\"\n",
    "data_preprocessing_artifact_dir_name = \"data_preprocessing\"\n",
    "data_preprocessing_artifact_dir_path = os.path.join(data_dir, data_preprocessing_artifact_dir_name)\n",
    "os.makedirs(data_preprocessing_artifact_dir_path, exist_ok=True)\n",
    "\n",
    "data_preprocessed_filename = \"preprocessed_dataset.csv\"\n",
    "data_preprocessed_filepath = os.path.join(data_preprocessing_artifact_dir_path, data_preprocessed_filename)\n",
    "\n",
    "try:\n",
    "    dataset = pd.read_csv(\"/Users/vambat1/Documents/Projects/Machine-Learning/05-Stock-Trend-Prediction/data/data_ingestion/TATASTEEL.csv\")\n",
    "\n",
    "    dataset['Date'] = pd.to_datetime(dataset['Date'])\n",
    "\n",
    "    dataset = dataset[['Date', 'Close']]\n",
    "\n",
    "    # Handling Null Values\n",
    "    if dataset.isna().any().any():  # Check if any value is null\n",
    "        dataset = dataset.dropna()\n",
    "    else:\n",
    "        pass\n",
    "\n",
    "    # Handling Duplicates\n",
    "    if dataset.duplicated().any():  # Check if any duplicate rows exist\n",
    "        dataset = dataset.drop_duplicates()\n",
    "    else:\n",
    "        pass\n",
    "\n",
    "    dataset.to_csv(data_preprocessed_filepath, index=False)\n",
    "except Exception as e:\n",
    "    print(f\"Exception : {e}\")\n"
   ]
  },
  {
   "cell_type": "code",
   "execution_count": null,
   "metadata": {},
   "outputs": [],
   "source": []
  },
  {
   "cell_type": "code",
   "execution_count": null,
   "metadata": {},
   "outputs": [],
   "source": []
  },
  {
   "cell_type": "code",
   "execution_count": null,
   "metadata": {},
   "outputs": [],
   "source": []
  },
  {
   "cell_type": "code",
   "execution_count": null,
   "metadata": {},
   "outputs": [],
   "source": []
  },
  {
   "cell_type": "code",
   "execution_count": null,
   "metadata": {},
   "outputs": [],
   "source": []
  },
  {
   "cell_type": "code",
   "execution_count": null,
   "metadata": {},
   "outputs": [],
   "source": []
  },
  {
   "cell_type": "code",
   "execution_count": null,
   "metadata": {},
   "outputs": [],
   "source": []
  },
  {
   "cell_type": "code",
   "execution_count": null,
   "metadata": {},
   "outputs": [],
   "source": []
  },
  {
   "cell_type": "code",
   "execution_count": null,
   "metadata": {},
   "outputs": [],
   "source": []
  },
  {
   "cell_type": "code",
   "execution_count": null,
   "metadata": {},
   "outputs": [],
   "source": []
  },
  {
   "cell_type": "code",
   "execution_count": null,
   "metadata": {},
   "outputs": [],
   "source": []
  },
  {
   "cell_type": "code",
   "execution_count": null,
   "metadata": {},
   "outputs": [],
   "source": []
  }
 ],
 "metadata": {
  "kernelspec": {
   "display_name": "venv",
   "language": "python",
   "name": "python3"
  },
  "language_info": {
   "codemirror_mode": {
    "name": "ipython",
    "version": 3
   },
   "file_extension": ".py",
   "mimetype": "text/x-python",
   "name": "python",
   "nbconvert_exporter": "python",
   "pygments_lexer": "ipython3",
   "version": "3.11.6"
  }
 },
 "nbformat": 4,
 "nbformat_minor": 2
}
