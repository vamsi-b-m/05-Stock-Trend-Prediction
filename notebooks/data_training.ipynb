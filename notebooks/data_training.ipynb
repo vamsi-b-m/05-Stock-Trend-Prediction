{
 "cells": [
  {
   "cell_type": "code",
   "execution_count": 1,
   "metadata": {},
   "outputs": [
    {
     "name": "stderr",
     "output_type": "stream",
     "text": [
      "/var/folders/_3/2fm0mg0x5qdgpsw123gqb54r0000gp/T/ipykernel_58737/1847048040.py:2: DeprecationWarning: \n",
      "Pyarrow will become a required dependency of pandas in the next major release of pandas (pandas 3.0),\n",
      "(to allow more performant data types, such as the Arrow string type, and better interoperability with other libraries)\n",
      "but was not found to be installed on your system.\n",
      "If this would cause problems for you,\n",
      "please provide us feedback at https://github.com/pandas-dev/pandas/issues/54466\n",
      "        \n",
      "  import pandas as pd\n"
     ]
    }
   ],
   "source": [
    "# read the dataset\n",
    "import pandas as pd\n",
    "import numpy as np\n",
    "dataset = pd.read_csv(\"/Users/vambat1/Documents/Projects/Machine-Learning/05-Stock-Trend-Prediction/data/data_processing/processed_dataset.csv\")"
   ]
  },
  {
   "cell_type": "code",
   "execution_count": 2,
   "metadata": {},
   "outputs": [],
   "source": [
    "data_train = pd.DataFrame(dataset['Close'][0:int(len(dataset)*0.70)])\n",
    "data_test = pd.DataFrame(dataset['Close'][int(len(dataset)*0.70):int(len(dataset))])"
   ]
  },
  {
   "cell_type": "code",
   "execution_count": 3,
   "metadata": {},
   "outputs": [
    {
     "data": {
      "text/plain": [
       "(1726, 1)"
      ]
     },
     "execution_count": 3,
     "metadata": {},
     "output_type": "execute_result"
    }
   ],
   "source": [
    "data_train.shape"
   ]
  },
  {
   "cell_type": "code",
   "execution_count": 4,
   "metadata": {},
   "outputs": [
    {
     "data": {
      "text/plain": [
       "(741, 1)"
      ]
     },
     "execution_count": 4,
     "metadata": {},
     "output_type": "execute_result"
    }
   ],
   "source": [
    "data_test.shape"
   ]
  },
  {
   "cell_type": "code",
   "execution_count": 5,
   "metadata": {},
   "outputs": [
    {
     "data": {
      "text/html": [
       "<div>\n",
       "<style scoped>\n",
       "    .dataframe tbody tr th:only-of-type {\n",
       "        vertical-align: middle;\n",
       "    }\n",
       "\n",
       "    .dataframe tbody tr th {\n",
       "        vertical-align: top;\n",
       "    }\n",
       "\n",
       "    .dataframe thead th {\n",
       "        text-align: right;\n",
       "    }\n",
       "</style>\n",
       "<table border=\"1\" class=\"dataframe\">\n",
       "  <thead>\n",
       "    <tr style=\"text-align: right;\">\n",
       "      <th></th>\n",
       "      <th>Close</th>\n",
       "    </tr>\n",
       "  </thead>\n",
       "  <tbody>\n",
       "    <tr>\n",
       "      <th>0</th>\n",
       "      <td>403.192078</td>\n",
       "    </tr>\n",
       "    <tr>\n",
       "      <th>1</th>\n",
       "      <td>405.351807</td>\n",
       "    </tr>\n",
       "    <tr>\n",
       "      <th>2</th>\n",
       "      <td>402.112152</td>\n",
       "    </tr>\n",
       "    <tr>\n",
       "      <th>3</th>\n",
       "      <td>400.983154</td>\n",
       "    </tr>\n",
       "    <tr>\n",
       "      <th>4</th>\n",
       "      <td>401.621277</td>\n",
       "    </tr>\n",
       "  </tbody>\n",
       "</table>\n",
       "</div>"
      ],
      "text/plain": [
       "        Close\n",
       "0  403.192078\n",
       "1  405.351807\n",
       "2  402.112152\n",
       "3  400.983154\n",
       "4  401.621277"
      ]
     },
     "execution_count": 5,
     "metadata": {},
     "output_type": "execute_result"
    }
   ],
   "source": [
    "data_train.head()"
   ]
  },
  {
   "cell_type": "code",
   "execution_count": 6,
   "metadata": {},
   "outputs": [
    {
     "data": {
      "text/html": [
       "<div>\n",
       "<style scoped>\n",
       "    .dataframe tbody tr th:only-of-type {\n",
       "        vertical-align: middle;\n",
       "    }\n",
       "\n",
       "    .dataframe tbody tr th {\n",
       "        vertical-align: top;\n",
       "    }\n",
       "\n",
       "    .dataframe thead th {\n",
       "        text-align: right;\n",
       "    }\n",
       "</style>\n",
       "<table border=\"1\" class=\"dataframe\">\n",
       "  <thead>\n",
       "    <tr style=\"text-align: right;\">\n",
       "      <th></th>\n",
       "      <th>Close</th>\n",
       "    </tr>\n",
       "  </thead>\n",
       "  <tbody>\n",
       "    <tr>\n",
       "      <th>1726</th>\n",
       "      <td>324.139740</td>\n",
       "    </tr>\n",
       "    <tr>\n",
       "      <th>1727</th>\n",
       "      <td>320.251862</td>\n",
       "    </tr>\n",
       "    <tr>\n",
       "      <th>1728</th>\n",
       "      <td>314.220673</td>\n",
       "    </tr>\n",
       "    <tr>\n",
       "      <th>1729</th>\n",
       "      <td>320.451263</td>\n",
       "    </tr>\n",
       "    <tr>\n",
       "      <th>1730</th>\n",
       "      <td>316.563354</td>\n",
       "    </tr>\n",
       "  </tbody>\n",
       "</table>\n",
       "</div>"
      ],
      "text/plain": [
       "           Close\n",
       "1726  324.139740\n",
       "1727  320.251862\n",
       "1728  314.220673\n",
       "1729  320.451263\n",
       "1730  316.563354"
      ]
     },
     "execution_count": 6,
     "metadata": {},
     "output_type": "execute_result"
    }
   ],
   "source": [
    "data_test.head()"
   ]
  },
  {
   "cell_type": "code",
   "execution_count": 7,
   "metadata": {},
   "outputs": [],
   "source": [
    "from sklearn.preprocessing import MinMaxScaler"
   ]
  },
  {
   "cell_type": "code",
   "execution_count": 8,
   "metadata": {},
   "outputs": [],
   "source": [
    "scaler = MinMaxScaler(feature_range=(0,1))"
   ]
  },
  {
   "cell_type": "code",
   "execution_count": 9,
   "metadata": {},
   "outputs": [
    {
     "data": {
      "text/plain": [
       "array([[0.63678864],\n",
       "       [0.6408564 ],\n",
       "       [0.63475464],\n",
       "       ...,\n",
       "       [0.52657543],\n",
       "       [0.53173885],\n",
       "       [0.51427712]])"
      ]
     },
     "execution_count": 9,
     "metadata": {},
     "output_type": "execute_result"
    }
   ],
   "source": [
    "data_train_arr = scaler.fit_transform(data_train)\n",
    "data_train_arr"
   ]
  },
  {
   "cell_type": "code",
   "execution_count": 10,
   "metadata": {},
   "outputs": [],
   "source": [
    "x_train = []\n",
    "y_train = []"
   ]
  },
  {
   "cell_type": "code",
   "execution_count": 11,
   "metadata": {},
   "outputs": [],
   "source": [
    "for i in range(100, data_train_arr.shape[0]):\n",
    "    x_train.append(data_train_arr[i-100:i])\n",
    "    y_train.append(data_train_arr[i, 0])\n",
    "\n",
    "x_train, y_train = np.array(x_train), np.array(y_train)"
   ]
  },
  {
   "cell_type": "code",
   "execution_count": null,
   "metadata": {},
   "outputs": [],
   "source": []
  },
  {
   "cell_type": "code",
   "execution_count": 12,
   "metadata": {},
   "outputs": [],
   "source": [
    "# ML model\n",
    "\n",
    "from keras.layers import Dense, Dropout, LSTM\n",
    "from keras.models import Sequential"
   ]
  },
  {
   "cell_type": "code",
   "execution_count": 13,
   "metadata": {},
   "outputs": [],
   "source": [
    "model = Sequential()"
   ]
  },
  {
   "cell_type": "code",
   "execution_count": 14,
   "metadata": {},
   "outputs": [],
   "source": [
    "model.add(LSTM(units=50, activation='relu', return_sequences=True, input_shape=(x_train.shape[1],1)))\n",
    "model.add(Dropout(0.2))"
   ]
  },
  {
   "cell_type": "code",
   "execution_count": 15,
   "metadata": {},
   "outputs": [],
   "source": [
    "model.add(LSTM(units=60, activation='relu', return_sequences=True))\n",
    "model.add(Dropout(0.3))"
   ]
  },
  {
   "cell_type": "code",
   "execution_count": 16,
   "metadata": {},
   "outputs": [],
   "source": [
    "model.add(LSTM(units=80, activation='relu', return_sequences=True))\n",
    "model.add(Dropout(0.4))"
   ]
  },
  {
   "cell_type": "code",
   "execution_count": 17,
   "metadata": {},
   "outputs": [],
   "source": [
    "model.add(LSTM(units=120, activation='relu'))\n",
    "model.add(Dropout(0.5))"
   ]
  },
  {
   "cell_type": "code",
   "execution_count": 18,
   "metadata": {},
   "outputs": [],
   "source": [
    "model.add(Dense(units=1))"
   ]
  },
  {
   "cell_type": "code",
   "execution_count": 20,
   "metadata": {},
   "outputs": [
    {
     "name": "stdout",
     "output_type": "stream",
     "text": [
      "Model: \"sequential\"\n",
      "_________________________________________________________________\n",
      " Layer (type)                Output Shape              Param #   \n",
      "=================================================================\n",
      " lstm (LSTM)                 (None, 100, 50)           10400     \n",
      "                                                                 \n",
      " dropout (Dropout)           (None, 100, 50)           0         \n",
      "                                                                 \n",
      " lstm_1 (LSTM)               (None, 100, 60)           26640     \n",
      "                                                                 \n",
      " dropout_1 (Dropout)         (None, 100, 60)           0         \n",
      "                                                                 \n",
      " lstm_2 (LSTM)               (None, 100, 80)           45120     \n",
      "                                                                 \n",
      " dropout_2 (Dropout)         (None, 100, 80)           0         \n",
      "                                                                 \n",
      " lstm_3 (LSTM)               (None, 120)               96480     \n",
      "                                                                 \n",
      " dropout_3 (Dropout)         (None, 120)               0         \n",
      "                                                                 \n",
      " dense (Dense)               (None, 1)                 121       \n",
      "                                                                 \n",
      "=================================================================\n",
      "Total params: 178761 (698.29 KB)\n",
      "Trainable params: 178761 (698.29 KB)\n",
      "Non-trainable params: 0 (0.00 Byte)\n",
      "_________________________________________________________________\n"
     ]
    }
   ],
   "source": [
    "model.summary()"
   ]
  },
  {
   "cell_type": "code",
   "execution_count": 22,
   "metadata": {},
   "outputs": [
    {
     "name": "stdout",
     "output_type": "stream",
     "text": [
      "Epoch 1/50\n",
      "51/51 [==============================] - 7s 115ms/step - loss: 0.0904\n",
      "Epoch 2/50\n",
      "51/51 [==============================] - 6s 114ms/step - loss: 0.0151\n",
      "Epoch 3/50\n",
      "51/51 [==============================] - 6s 118ms/step - loss: 0.0134\n",
      "Epoch 4/50\n",
      "51/51 [==============================] - 6s 117ms/step - loss: 0.0115\n",
      "Epoch 5/50\n",
      "51/51 [==============================] - 6s 117ms/step - loss: 0.0116\n",
      "Epoch 6/50\n",
      "51/51 [==============================] - 6s 118ms/step - loss: 0.0109\n",
      "Epoch 7/50\n",
      "51/51 [==============================] - 6s 118ms/step - loss: 0.0115\n",
      "Epoch 8/50\n",
      "51/51 [==============================] - 6s 118ms/step - loss: 0.0094\n",
      "Epoch 9/50\n",
      "51/51 [==============================] - 6s 118ms/step - loss: 0.0097\n",
      "Epoch 10/50\n",
      "51/51 [==============================] - 6s 117ms/step - loss: 0.0087\n",
      "Epoch 11/50\n",
      "51/51 [==============================] - 6s 118ms/step - loss: 0.0084\n",
      "Epoch 12/50\n",
      "51/51 [==============================] - 6s 117ms/step - loss: 0.0082\n",
      "Epoch 13/50\n",
      "51/51 [==============================] - 6s 117ms/step - loss: 0.0077\n",
      "Epoch 14/50\n",
      "51/51 [==============================] - 6s 117ms/step - loss: 0.0072\n",
      "Epoch 15/50\n",
      "51/51 [==============================] - 6s 118ms/step - loss: 0.0068\n",
      "Epoch 16/50\n",
      "51/51 [==============================] - 6s 119ms/step - loss: 0.0065\n",
      "Epoch 17/50\n",
      "51/51 [==============================] - 6s 118ms/step - loss: 0.0064\n",
      "Epoch 18/50\n",
      "51/51 [==============================] - 6s 118ms/step - loss: 0.0065\n",
      "Epoch 19/50\n",
      "51/51 [==============================] - 6s 120ms/step - loss: 0.0063\n",
      "Epoch 20/50\n",
      "51/51 [==============================] - 6s 117ms/step - loss: 0.0063\n",
      "Epoch 21/50\n",
      "51/51 [==============================] - 6s 117ms/step - loss: 0.0058\n",
      "Epoch 22/50\n",
      "51/51 [==============================] - 6s 117ms/step - loss: 0.0052\n",
      "Epoch 23/50\n",
      "51/51 [==============================] - 6s 118ms/step - loss: 0.0055\n",
      "Epoch 24/50\n",
      "51/51 [==============================] - 6s 117ms/step - loss: 0.0052\n",
      "Epoch 25/50\n",
      "51/51 [==============================] - 6s 119ms/step - loss: 0.0056\n",
      "Epoch 26/50\n",
      "51/51 [==============================] - 6s 117ms/step - loss: 0.0053\n",
      "Epoch 27/50\n",
      "51/51 [==============================] - 6s 117ms/step - loss: 0.0049\n",
      "Epoch 28/50\n",
      "51/51 [==============================] - 6s 118ms/step - loss: 0.0055\n",
      "Epoch 29/50\n",
      "51/51 [==============================] - 6s 117ms/step - loss: 0.0050\n",
      "Epoch 30/50\n",
      "51/51 [==============================] - 6s 117ms/step - loss: 0.0044\n",
      "Epoch 31/50\n",
      "51/51 [==============================] - 6s 119ms/step - loss: 0.0050\n",
      "Epoch 32/50\n",
      "51/51 [==============================] - 6s 117ms/step - loss: 0.0046\n",
      "Epoch 33/50\n",
      "51/51 [==============================] - 6s 117ms/step - loss: 0.0045\n",
      "Epoch 34/50\n",
      "51/51 [==============================] - 6s 117ms/step - loss: 0.0044\n",
      "Epoch 35/50\n",
      "51/51 [==============================] - 6s 117ms/step - loss: 0.0044\n",
      "Epoch 36/50\n",
      "51/51 [==============================] - 6s 117ms/step - loss: 0.0045\n",
      "Epoch 37/50\n",
      "51/51 [==============================] - 6s 117ms/step - loss: 0.0044\n",
      "Epoch 38/50\n",
      "51/51 [==============================] - 6s 117ms/step - loss: 0.0043\n",
      "Epoch 39/50\n",
      "51/51 [==============================] - 6s 117ms/step - loss: 0.0036\n",
      "Epoch 40/50\n",
      "51/51 [==============================] - 6s 117ms/step - loss: 0.0041\n",
      "Epoch 41/50\n",
      "51/51 [==============================] - 6s 117ms/step - loss: 0.0037\n",
      "Epoch 42/50\n",
      "51/51 [==============================] - 6s 118ms/step - loss: 2091571361087488.0000\n",
      "Epoch 43/50\n",
      "51/51 [==============================] - 6s 117ms/step - loss: 145331257344.0000\n",
      "Epoch 44/50\n",
      "51/51 [==============================] - 6s 117ms/step - loss: 0.0427\n",
      "Epoch 45/50\n",
      "51/51 [==============================] - 6s 118ms/step - loss: 0.0379\n",
      "Epoch 46/50\n",
      "51/51 [==============================] - 6s 117ms/step - loss: 0.0271\n",
      "Epoch 47/50\n",
      "51/51 [==============================] - 6s 117ms/step - loss: 0.0228\n",
      "Epoch 48/50\n",
      "51/51 [==============================] - 6s 118ms/step - loss: 0.0225\n",
      "Epoch 49/50\n",
      "51/51 [==============================] - 6s 117ms/step - loss: 0.0196\n",
      "Epoch 50/50\n",
      "51/51 [==============================] - 6s 117ms/step - loss: 0.0186\n"
     ]
    },
    {
     "data": {
      "text/plain": [
       "<keras.src.callbacks.History at 0x2a45dfb90>"
      ]
     },
     "execution_count": 22,
     "metadata": {},
     "output_type": "execute_result"
    }
   ],
   "source": [
    "model.compile(optimizer=\"adam\", loss='mean_squared_error')\n",
    "model.fit(x_train, y_train, epochs=50)"
   ]
  },
  {
   "cell_type": "code",
   "execution_count": 23,
   "metadata": {},
   "outputs": [
    {
     "name": "stderr",
     "output_type": "stream",
     "text": [
      "/Users/vambat1/Documents/Projects/Machine-Learning/05-Stock-Trend-Prediction/venv/lib/python3.11/site-packages/keras/src/engine/training.py:3103: UserWarning: You are saving your model as an HDF5 file via `model.save()`. This file format is considered legacy. We recommend using instead the native Keras format, e.g. `model.save('my_model.keras')`.\n",
      "  saving_api.save_model(\n"
     ]
    }
   ],
   "source": [
    "model.save(\"keras_model.h5\")"
   ]
  },
  {
   "cell_type": "code",
   "execution_count": null,
   "metadata": {},
   "outputs": [],
   "source": []
  }
 ],
 "metadata": {
  "kernelspec": {
   "display_name": "venv",
   "language": "python",
   "name": "python3"
  },
  "language_info": {
   "codemirror_mode": {
    "name": "ipython",
    "version": 3
   },
   "file_extension": ".py",
   "mimetype": "text/x-python",
   "name": "python",
   "nbconvert_exporter": "python",
   "pygments_lexer": "ipython3",
   "version": "3.11.6"
  }
 },
 "nbformat": 4,
 "nbformat_minor": 2
}
